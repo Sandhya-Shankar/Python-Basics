{
 "cells": [
  {
   "cell_type": "markdown",
   "metadata": {},
   "source": [
    "# Python Basics"
   ]
  },
  {
   "cell_type": "markdown",
   "metadata": {},
   "source": [
    "These assignments aim to get you acquainted with Python, which is an important requirement for all the research done at Solarillion Foundation. Apart from teaching you Python, these assignments also aim to make you a better programmer and cultivate better coding practices. \n",
    "\n",
    "Visit these links for more details: <br>\n",
    "PEP8 Practices: https://www.python.org/dev/peps/pep-0008/ <br>\n",
    "Check PEP8: http://pep8online.com <br>\n",
    "Python Reference: https://www.py4e.com/lessons <br>\n",
    "\n",
    "Do use Google efficiently, and refer to StackOverflow for clarifying any programming doubts. If you're still stuck, feel free to ask a TA to help you.\n",
    "\n",
    "Each task in the assignment comprises of at least two cells. There are function definitions wherein you will name the function(s), and write code to solve the problem at hand. You will call the function(s) in the last cell of each task, and check your output.\n",
    "\n",
    "We encourage you to play around and learn as much as possible, and be as creative as you can get. More than anything, have fun doing these assignments. Enjoy!"
   ]
  },
  {
   "cell_type": "markdown",
   "metadata": {},
   "source": [
    "# Important\n",
    "* **Only the imports and functions must be present when you upload this notebook to GitHub for verification.** \n",
    "* **Do not upload it until you want to get it verified. Do not change function names or add extra cells or code, or remove anything.**\n",
    "* **For your rough work and four showing your code to TAs, use a different notebook with the name Module2Playground.ipynb and copy only the final functions to this notebook for verification.**"
   ]
  },
  {
   "cell_type": "markdown",
   "metadata": {},
   "source": [
    "# Module 2\n",
    "Scope: NumPy, pandas, pickle, matplotlib, File operations"
   ]
  },
  {
   "cell_type": "markdown",
   "metadata": {},
   "source": [
    "## Imports - Always Execute First!\n",
    "Import any modules and turn on any magic here:"
   ]
  },
  {
   "cell_type": "code",
   "execution_count": null,
   "metadata": {},
   "outputs": [],
   "source": [
    "import matplotlib as mpl\n",
    "import matplotlib.pyplot as plt\n",
    "import numpy as np\n",
    "import pandas as pd\n",
    "import pickle as pkl\n",
    "from IPython import get_ipython\n",
    "ipy = get_ipython()\n",
    "if ipy is not None:\n",
    "    ipy.run_line_magic(\"load_ext\", \"pycodestyle_magic\")\n",
    "    ipy.run_line_magic(\"pycodestyle_on\", \"\")\n",
    "    ipy.run_line_magic(\"matplotlib\", \"inline\")"
   ]
  },
  {
   "cell_type": "markdown",
   "metadata": {},
   "source": [
    "## Task 1"
   ]
  },
  {
   "cell_type": "markdown",
   "metadata": {},
   "source": [
    "Basics of NumPy, pandas, pickle and matplotlib."
   ]
  },
  {
   "cell_type": "markdown",
   "metadata": {},
   "source": [
    "**Question 1**"
   ]
  },
  {
   "cell_type": "code",
   "execution_count": null,
   "metadata": {},
   "outputs": [],
   "source": [
    "\"\"\"\n",
    "    Read the pickle file 'Data/Stress.pkl' and transform the contents into a\n",
    "    a pandas DataFrame of the following form:\n",
    "    \n",
    "            +------+------+------+-----+------+-------+\n",
    "            | ACCx | ACCy | ACCz | ECG | RESP | LABEL |\n",
    "            +------+------+------+-----+------+-------+\n",
    "            |      |      |      |     |      |       |\n",
    "            +------+------+------+-----+------+-------+\n",
    "            |      |      |      |     |      |       |\n",
    "            +------+------+------+-----+------+-------+\n",
    "            |      |      |      |     |      |       |\n",
    "            +------+------+------+-----+------+-------+\n",
    "\n",
    "            Shape: (700, 6)\n",
    "\n",
    "    Save this DataFrame as a CSV file.\n",
    "\n",
    "    Modules\n",
    "    -------\n",
    "    pickle, pandas\n",
    "    \n",
    "    Lookups\n",
    "    -------\n",
    "    NumPy and pandas basics (Check the Lookups folder)\n",
    "    Try to complete the tasks in the Lookups, and play around with the notebooks.\n",
    "\"\"\"        "
   ]
  },
  {
   "cell_type": "code",
   "execution_count": null,
   "metadata": {},
   "outputs": [],
   "source": [
    "import numpy as np\n",
    "import pickle as pickle\n",
    "import pandas as pd\n",
    "from tabulate import tabulate\n",
    "import csv\n",
    "from pathlib import Path\n",
    "import statistics\n",
    "import matplotlib.pyplot as plt\n",
    "    "
   ]
  },
  {
   "cell_type": "code",
   "execution_count": null,
   "metadata": {},
   "outputs": [],
   "source": [
     "filename='C:\\Users\\Ram\\Desktop\\Data\\Stress.pkl'\n",
     "def pickle_to_csv(filename):\n",    
     "   with open(filename,'rb') as f:\n",
     "      x = pickle.load(f)\n",
     "   l=[]\n",
     "   m=[]\n",
     "   n=[]\n",
     "   o=[]\n",
     "   p=[]\n",
     "   q=[]\n",  
     "   df = pd.DataFrame(x)\n",  
     "   df=df.T\n", 
     "   for i in range(len(df['ACC'][0])):\n",
     "       l+=[df['ACC'][0][i][0]]\n",
     "       m+=[df['ACC'][0][i][1]]\n",
     "       n+=[df['ACC'][0][i][2]]\n",   
     "   for j in range(len(df['ECG'][0])):\n",
     "       o+=df['ECG'][0][j]\n",
     "   for k in range(len(df['LABEL'][0])):\n",
     "       p+=df['LABEL'][0][k]\n",
     "   for r in range(len(df['RESP'][0])):\n",
     "       q+=df['RESP'][0][r]\n",
     "   df1=pd.DataFrame()\n",
     "   df1['ACCx']=l\n",        
     "   df1['ACCy']=m\n",        
     "   df1['ACCz']=n\n",
     "   df1['ECG']=o\n",
     "   df1['LABEL']=p\n",
     "   df1['RESP']=q\n",
     "   filepath = Path('C:\\Users\\Ram\\Desktop\\Data\\Stress.csv')\n",  
     "   filepath.parent.mkdir(parents=True, exist_ok=True)\n",  
     "   df1.to_csv(filepath,index=0,mode='w')\n",
     "   df1= pd.read_csv(filepath)\n",
     "   print(\"After returning csv file:\")\n",
     "   #return(tabulate(df1, headers = 'keys', tablefmt = 'grid'))\n",
     "   return(df1)\n",
     "     "
   ]
  },
  {
   "cell_type": "markdown",
   "metadata": {},
   "source": [
    "print(pickle_to_csv(filename))\n",
    "    "
   ]
  },
  {
   "cell_type": "markdown",
   "metadata": {},
   "source": [
    "**Question 2**"
   ]
  },
  {
   "cell_type": "code",
   "execution_count": null,
   "metadata": {},
   "outputs": [],
   "source": [
    "\"\"\"\n",
    "    Find the number of occurrences of each unique value in `LABEL` (count of values).\n",
    "    \n",
    "    Add a column `BINARY` to the DataFrame which contains 1 if `LABEL` is 2,\n",
    "    else 0.\n",
    "    \n",
    "    Find the mean, minimum, maximum and standard deviation of `RESP` for each value in `LABEL`.\n",
    "\"\"\""
   ]
  },
  {
   "cell_type": "code",
   "execution_count": null,
   "metadata": {},
   "outputs": [],
   "source": [
    "df1=pickle_to_csv(filename)\n",
    "    "
   ]
  },
  {
   "cell_type": "code",
   "execution_count": null,
   "metadata": {},
   "outputs": [],
   "source": [
    "def count_unique(dataframe):\n",
    "     dict={}\n",
    "     rep=[]\n",
    "     uniqueValues = dataframe['LABEL'].unique()\n",
    "     for i in uniqueValues:\n",
    "         if i not in rep:\n",
    "             c=0\n",
    "             for j in dataframe['LABEL']:\n",
    "                 if j==i:\n",
    "                     c+=1\n",  
    "             rep+=[i]\n",
    "             dict+={i:c}\n",
    "    "
   ]
  },
  {
   "cell_type": "code",
   "execution_count": null,
   "metadata": {},
   "outputs": [],
   "source": [
    "count_unique(df1)\n",
    "    "
   ]
  },
  {
   "cell_type": "code",
   "execution_count": null,
   "metadata": {},
   "outputs": [],
   "source": [
    "def add_binary(dataframe):\n",
    "    dataframe['BINARY']=0\n",
    "    for i in range(len(dataframe.index)):\n",
    "        if (dataframe.loc[i,\"LABEL\"]==2):\n",
    "            dataframe.loc[i,\"BINARY\"]=1\n",
    "    return(dataframe)\n",
    "    "
   ]
  },
  {
   "cell_type": "code",
   "execution_count": null,
   "metadata": {},
   "outputs": [],
   "source": [
    "add_binary(df1)\n",
    "    "
   ]
  },
  {
   "cell_type": "code",
   "execution_count": null,
   "metadata": {},
   "outputs": [],
   "source": [
    "def compute_resp(dataframe):\n",
    "    dic={}\n",
    "    rep=[]\n",
    "    mean=0\n",
    "    median=0\n",
    "    sd=0\n",
    "    uniqueValues = dataframe['LABEL'].unique()\n",       
    "    for i in uniqueValues:\n",
    "        if i not in rep:\n",
    "            temp=[]\n",
    "            c=0\n",
    "            for j in dataframe['LABEL']:\n",
    "                if j==i:\n",
    "                   for k in range(len(df1.index)):\n",
    "                        if df1.loc[k,\"LABEL\"]==j:\n",
    "                            temp+=[df1.loc[k,\"RESP\"]]\n",
    "            sd = statistics.pstdev(temp)\n",
    "            mean=statistics.mean(temp)\n",
    "            mini=min(temp)\n",
    "            maxi=max(temp)\n",
    "            dic.update({i:[mean,mini,maxi,sd]})\n",
    "        rep+=[i]\n",
    "    return(dic)\n",
    "    "
   ]
  },
  {
   "cell_type": "code",
   "execution_count": null,
   "metadata": {
    "scrolled": true
   },
   "outputs": [],
   "source": [
    "compute_resp(df1)\n",
    "    "
   ]
  },
  {
   "cell_type": "markdown",
   "metadata": {},
   "source": [
    "**Question 3**"
   ]
  },
  {
   "cell_type": "code",
   "execution_count": null,
   "metadata": {},
   "outputs": [],
   "source": [
    "\"\"\"\n",
    "    Plot `RESP` using matplotlib (pyplot):\n",
    "    - First, just plot the raw values.\n",
    "    - Next, try using different colours for data points based on `BINARY`.\n",
    "    - Experiment and come up with a useful plot.\n",
    "\"\"\""
   ]
  },
  {
   "cell_type": "code",
   "execution_count": null,
   "metadata": {},
   "outputs": [],
   "source": [
    "def plot_raw(dataframe):\n",
    "    plt.xlabel(\"RESP\")\n",
    "    plt.ylabel(\"LABEL\")\n",
    "    plt.title(\"RAW GRAPH\")\n",
    "    plt.plot(dataframe[\"RESP\"],dataframe[\"LABEL\"])\n",
    "    plt.show()\n",
    "    "
   ]
  },
  {
   "cell_type": "code",
   "execution_count": null,
   "metadata": {},
   "outputs": [],
   "source": [
    "plot_raw(df1)\n",
    "    "
   ]
  },
  {
   "cell_type": "code",
   "execution_count": null,
   "metadata": {},
   "outputs": [],
   "source": [
     "def plot_coloured(dataframe):\n",
     "    l=add_binary(dataframe)\n",
     "    x=list(l[\"RESP\"])\n",
     "    y=list(l[\"BINARY\"])\n",
     "    z=[]\n",
     "    a=[]\n",
     "    b=[]\n",
     "    c=[]\n",
     "    for i in range(len(x)):\n",
     "        if y[i]==1:\n",
     "            z+=[x[i]]\n",
     "            a+=[y[i]]\n",
     "        else:\n",
     "            b+=[x[i]]\n",
     "            c+=[y[i]]\n",
     "    s=3\n",
     "    plt.scatter(z,a,c='green',marker='.',s=s)\n",
     "    plt.scatter(b,c,c='red',marker='.',s=s)\n",
     "    plt.show()\n",
     "    "
   ]
  },
  {
   "cell_type": "code",
   "execution_count": null,
   "metadata": {},
   "outputs": [],
   "source": [
    "plot_coloured(df1)\n",
    "    "
   ]
  },
  {
   "cell_type": "markdown",
   "metadata": {},
   "source": [
    "## Task 2"
   ]
  },
  {
   "cell_type": "markdown",
   "metadata": {},
   "source": [
    "Some simple file operations."
   ]
  },
  {
   "cell_type": "code",
   "execution_count": null,
   "metadata": {},
   "outputs": [],
   "source": [
    "\"\"\"\n",
    "    Generate a text file containing 50 integer elements between 1 and 20 (use `random`). \n",
    "    Identify the unique numbers and the number of their occurrences, and write this into \n",
    "    a new text file.\n",
    "    \n",
    "    Example\n",
    "    -------\n",
    "    \n",
    "    Generated File\n",
    "    --------------\n",
    "    1 2 3 4 3 2 1 ...\n",
    "    \n",
    "    Count File\n",
    "    ----------\n",
    "    1 - 2\n",
    "    2 - 2\n",
    "    3 - 2\n",
    "    4 - 1\n",
    "    ...\n",
    "\"\"\""
   ]
  },
  {
   "cell_type": "code",
   "execution_count": null,
   "metadata": {},
   "outputs": [],
   "source": [
    "import random\n",
    "    "
   ]
  },
  {
   "cell_type": "code",
   "execution_count": null,
   "metadata": {},
   "outputs": [],
   "source": [
    "def random_numbers():\n",
    "    string=''\n",
    "    with open(\"Numbers.txt\",'w') as f:\n",
    "        for i in range(50):\n",
    "            x=random.randrange(1,20)\n",
    "            string+=str(x)+' '\n",
    "        f.write(string)\n",
    "    with open(\"Numbers.txt\",'r') as f:\n",
    "        l=f.read()\n",
    "        s=l.split(' ')\n",
    "        print(l)\n",
    "    q=open(\"Count.txt\",'w')\n",
    "    l=[]\n",
    "    string2=''\n",
    "    for i in s:\n",
    "        c=0\n",
    "        if i not in l and i!='':\n",
    "            for j in s:\n",
    "                if i==j:\n",
    "                    c+=1\n",
    "            string2=str(int(i))+' - '+str(c)+'\n'\n",
    "            q.write(string2)\n",
    "            l+=[i]\n",
    "    q.close()\n",
    "     with open(\"Count.txt\",'r') as q:\n",
    "         print(q.read())\n",
    "    "
   ]
  },
  {
   "cell_type": "code",
   "execution_count": null,
   "metadata": {},
   "outputs": [],
   "source": [
    "random_numbers()\n",
    "    "
   ]
  },
  {
   "cell_type": "markdown",
   "metadata": {},
   "source": [
    "Once you're done, move on to Module 3. Great job!"
   ]
  }
 ],
 "metadata": {
  "kernelspec": {
   "display_name": "Python 3",
   "language": "python",
   "name": "python3"
  },
  "language_info": {
   "codemirror_mode": {
    "name": "ipython",
    "version": 3
   },
   "file_extension": ".py",
   "mimetype": "text/x-python",
   "name": "python",
   "nbconvert_exporter": "python",
   "pygments_lexer": "ipython3",
   "version": "3.8.0"
  }
 },
 "nbformat": 4,
 "nbformat_minor": 2
}
